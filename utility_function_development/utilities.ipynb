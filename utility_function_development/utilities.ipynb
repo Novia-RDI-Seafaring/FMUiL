{
 "cells": [
  {
   "cell_type": "code",
   "execution_count": 1,
   "metadata": {},
   "outputs": [],
   "source": [
    "import fmpy\n",
    "import logging\n",
    "\n",
    "_logger = logging.getLogger(__name__)\n",
    "\n",
    "class FmuLoader:\n",
    "    def __init__(self, fmu_file) -> None:\n",
    "        \n",
    "        self.model_description = fmpy.read_model_description(fmu_file)  \n",
    "        self.unzipdir = fmpy.extract(fmu_file)\n",
    "        self.fmu = fmpy.fmi2.FMU2Slave(guid=self.model_description.guid,\n",
    "                        unzipDirectory=self.unzipdir,\n",
    "                        modelIdentifier=self.model_description.coSimulation.modelIdentifier,\n",
    "                        instanceName='instance1')\n",
    "\n",
    "        self.fmu.instantiate()\n",
    "        self.fmu.enterInitializationMode()      \n",
    "        self.fmu.exitInitializationMode()\n",
    "        self.vr_inputs = {}\n",
    "        self.vr_outputs = {}\n",
    "        self.vr_parameters = {}\n",
    "        self.locate_variable_names()\n",
    "\n",
    "    def locate_variable_names(self):\n",
    "\n",
    "        # Setting up\n",
    "        _logger.info(\"Run simulation \\n\")            \n",
    "\n",
    "        # Gathering the I/Os references TODO: Outside of simulation loop\n",
    "        for variable in self.model_description.modelVariables:\n",
    "            if variable.name.find('INPUT') != -1:\n",
    "                self.vr_inputs[variable.name.lower()] = variable.valueReference            \n",
    "            elif variable.name.find('SETPOINT') != -1:\n",
    "                self.vr_inputs[variable.name.lower()] = variable.valueReference\n",
    "            elif variable.name.find('OUTPUT') != -1:\n",
    "                self.vr_outputs[variable.name.lower()] = variable.valueReference\n",
    "            elif variable.name.find('PID') != -1:\n",
    "                self.vr_parameters[variable.name.lower()] = variable.valueReference\n",
    "\n",
    "        print(f\"inp = {self.vr_inputs}, \\nout = {self.vr_outputs}, \\npar = {self.vr_parameters}\")\n",
    "        simulation_inputs = list(self.vr_inputs.values())    \n"
   ]
  },
  {
   "cell_type": "code",
   "execution_count": 35,
   "metadata": {},
   "outputs": [
    {
     "name": "stdout",
     "output_type": "stream",
     "text": [
      "inp = {'setpoint_temperature_lube_oil': 0, 'input_temperature_lube_oil': 1}, \n",
      "out = {'output_control_valve_position': 2}, \n",
      "par = {}\n"
     ]
    }
   ],
   "source": [
    "fmu = FmuLoader(fmu_file=\"../FMUs/LOC_CNTRL_custom_linux.fmu\")"
   ]
  },
  {
   "cell_type": "code",
   "execution_count": 56,
   "metadata": {},
   "outputs": [
    {
     "name": "stdout",
     "output_type": "stream",
     "text": [
      "inp = {'setpoint_temperature_lube_oil': 0, 'input_temperature_lube_oil': 1}, \n",
      "out = {'output_control_valve_position': 2}, \n",
      "par = {}\n"
     ]
    },
    {
     "data": {
      "text/plain": [
       "[0.7333333333333333]"
      ]
     },
     "execution_count": 56,
     "metadata": {},
     "output_type": "execute_result"
    }
   ],
   "source": [
    "# simulation loop 1\n",
    "fmu = FmuLoader(fmu_file=\"../FMUs/LOC_CNTRL_custom_linux.fmu\") \n",
    "fmu.fmu.setReal([fmu.vr_inputs[\"setpoint_temperature_lube_oil\"]], [0])  \n",
    "fmu.fmu.setReal([fmu.vr_inputs[\"input_temperature_lube_oil\"]], [10])  \n",
    "fmu.fmu.doStep(currentCommunicationPoint=0, communicationStepSize=5.0) # simtime = 2.5099999999999905, step size = 0.01\n",
    "fmu.fmu.getReal([fmu.vr_outputs[\"output_control_valve_position\"]])\n"
   ]
  },
  {
   "cell_type": "code",
   "execution_count": 65,
   "metadata": {},
   "outputs": [
    {
     "name": "stdout",
     "output_type": "stream",
     "text": [
      "inp = {'setpoint_temperature_lube_oil': 0, 'input_temperature_lube_oil': 1}, \n",
      "out = {'output_control_valve_position': 2}, \n",
      "par = {}\n"
     ]
    },
    {
     "data": {
      "text/plain": [
       "[0.7333333333333333]"
      ]
     },
     "execution_count": 65,
     "metadata": {},
     "output_type": "execute_result"
    }
   ],
   "source": [
    "# simulation loop 1\n",
    "fmu = FmuLoader(fmu_file=\"../FMUs/LOC_CNTRL_custom_linux.fmu\") \n",
    "fmu.fmu.setReal([fmu.vr_inputs[\"setpoint_temperature_lube_oil\"]], [0])  \n",
    "fmu.fmu.setReal([fmu.vr_inputs[\"input_temperature_lube_oil\"]], [10])  \n",
    "fmu.fmu.doStep(currentCommunicationPoint=0, communicationStepSize=5.0) \n",
    "fmu.fmu.getReal([fmu.vr_outputs[\"output_control_valve_position\"]])\n"
   ]
  },
  {
   "cell_type": "code",
   "execution_count": null,
   "metadata": {},
   "outputs": [],
   "source": []
  },
  {
   "cell_type": "code",
   "execution_count": null,
   "metadata": {},
   "outputs": [],
   "source": []
  },
  {
   "cell_type": "code",
   "execution_count": null,
   "metadata": {},
   "outputs": [],
   "source": []
  },
  {
   "cell_type": "code",
   "execution_count": null,
   "metadata": {},
   "outputs": [],
   "source": []
  }
 ],
 "metadata": {
  "kernelspec": {
   "display_name": "opc01",
   "language": "python",
   "name": "python3"
  },
  "language_info": {
   "codemirror_mode": {
    "name": "ipython",
    "version": 3
   },
   "file_extension": ".py",
   "mimetype": "text/x-python",
   "name": "python",
   "nbconvert_exporter": "python",
   "pygments_lexer": "ipython3",
   "version": "3.12.2"
  }
 },
 "nbformat": 4,
 "nbformat_minor": 2
}
