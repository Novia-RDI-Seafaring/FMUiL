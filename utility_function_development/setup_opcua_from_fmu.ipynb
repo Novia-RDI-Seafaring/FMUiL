{
 "cells": [
  {
   "cell_type": "code",
   "execution_count": 34,
   "metadata": {},
   "outputs": [
    {
     "name": "stdout",
     "output_type": "stream",
     "text": [
      "inp = {'SETPOINT_temperature_lube_oil': {'id': 0, 'type': 'Real'}, 'INPUT_temperature_lube_oil': {'id': 1, 'type': 'Real'}}, \n",
      "out = {'OUTPUT_control_valve_position': {'id': 2, 'type': 'Real'}}, \n",
      "par = {}\n"
     ]
    },
    {
     "data": {
      "text/plain": [
       "[0.7333333333333333]"
      ]
     },
     "execution_count": 34,
     "metadata": {},
     "output_type": "execute_result"
    }
   ],
   "source": [
    "import fmpy\n",
    "import logging\n",
    "\n",
    "_logger = logging.getLogger(__name__)\n",
    "\n",
    "class FmuLoader:\n",
    "    def __init__(self, fmu_file) -> None:\n",
    "        \n",
    "        self.model_description = fmpy.read_model_description(fmu_file)  \n",
    "        self.fmu_name = self.model_description.modelName\n",
    "        self.unzipdir = fmpy.extract(fmu_file)\n",
    "        self.fmu = fmpy.fmi2.FMU2Slave(guid=self.model_description.guid,\n",
    "                        unzipDirectory=self.unzipdir,\n",
    "                        modelIdentifier=self.model_description.coSimulation.modelIdentifier,\n",
    "                        instanceName='instance1')\n",
    "        self.fmu.instantiate()\n",
    "        self.fmu.enterInitializationMode()      \n",
    "        self.fmu.exitInitializationMode()\n",
    "        self.fmu_inputs = {}\n",
    "        self.fmu_outputs = {}\n",
    "        self.fmu_parameters = {}\n",
    "        self.locate_variable_names()\n",
    "\n",
    "    def _add_input(self, variable:fmpy.model_description.ScalarVariable):\n",
    "        self.fmu_inputs[variable.name] = {\n",
    "            \"id\" : variable.valueReference,\n",
    "            \"type\" : variable.type\n",
    "        }\n",
    "        return\n",
    "\n",
    "    def _add_output(self, variable:fmpy.model_description.ScalarVariable):\n",
    "        self.fmu_outputs[variable.name] = {\n",
    "            \"id\" : variable.valueReference,\n",
    "            \"type\" : variable.type\n",
    "        }\n",
    "        \n",
    "    def locate_variable_names(self):\n",
    "\n",
    "        # Setting up\n",
    "        _logger.info(\"Run simulation \\n\")            \n",
    "\n",
    "        # Gathering the I/Os references TODO: Outside of simulation loop\n",
    "        for variable in self.model_description.modelVariables:\n",
    "            if variable.causality == \"input\":\n",
    "                self._add_input(variable=variable)\n",
    "            elif variable.causality == \"output\":\n",
    "                self._add_output(variable=variable)\n",
    "                \n",
    "        print(f\"inp = {self.fmu_inputs}, \\nout = {self.fmu_outputs}, \\npar = {self.fmu_parameters}\")\n",
    "\n",
    "    def get_fmu_inputs(self):\n",
    "        return list(self.fmu_inputs.keys())\n",
    "    \n",
    "    def get_fmu_outputs(self):\n",
    "        return list(self.fmu_outputs.keys())\n",
    "\n",
    "# simulation loop 1\n",
    "fmu = FmuLoader(fmu_file=\"../FMUs/LOC_CNTRL_custom_linux.fmu\") \n",
    "fmu.fmu.setReal([fmu.fmu_inputs[\"SETPOINT_temperature_lube_oil\"][\"id\"]], [0])  \n",
    "fmu.fmu.setReal([fmu.fmu_inputs[\"INPUT_temperature_lube_oil\"][\"id\"]], [10])  \n",
    "fmu.fmu.doStep(currentCommunicationPoint=0, communicationStepSize=5.0) \n",
    "fmu.fmu.getReal([fmu.fmu_outputs[\"OUTPUT_control_valve_position\"][\"id\"]])\n"
   ]
  },
  {
   "cell_type": "code",
   "execution_count": 37,
   "metadata": {},
   "outputs": [
    {
     "data": {
      "text/plain": [
       "'LOC_CNTRL_v2_customPI'"
      ]
     },
     "execution_count": 37,
     "metadata": {},
     "output_type": "execute_result"
    }
   ],
   "source": [
    "fmu.fmu_name"
   ]
  }
 ],
 "metadata": {
  "kernelspec": {
   "display_name": "opc01",
   "language": "python",
   "name": "python3"
  },
  "language_info": {
   "codemirror_mode": {
    "name": "ipython",
    "version": 3
   },
   "file_extension": ".py",
   "mimetype": "text/x-python",
   "name": "python",
   "nbconvert_exporter": "python",
   "pygments_lexer": "ipython3",
   "version": "3.12.2"
  }
 },
 "nbformat": 4,
 "nbformat_minor": 2
}
