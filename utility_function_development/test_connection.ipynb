{
 "cells": [
  {
   "cell_type": "code",
   "execution_count": null,
   "metadata": {},
   "outputs": [],
   "source": [
    "import asyncio\n",
    "\n",
    "from asyncua import Client\n",
    "\n",
    "url = \"opc.tcp://localhost:4840/freeopcua/server/\"\n",
    "namespace = \"http://examples.freeopcua.github.io\"\n",
    "\n",
    "\n",
    "async def main():\n",
    "\n",
    "    print(f\"Connecting to {url} ...\")\n",
    "    async with Client(url=url) as client:\n",
    "        # Find the namespace index\n",
    "        nsidx = await client.get_namespace_index(namespace)\n",
    "        print(f\"Namespace Index for '{namespace}': {nsidx}\")\n",
    "\n",
    "        # Get the variable node for read / write\n",
    "        var = await client.nodes.root.get_child(\n",
    "            f\"0:Objects/{nsidx}:MyObject/{nsidx}:MyVariable\"\n",
    "        )\n",
    "        value = await var.read_value()\n",
    "        print(f\"Value of MyVariable ({var}): {value}\")\n",
    "\n",
    "        new_value = value - 50\n",
    "        print(f\"Setting value of MyVariable to {new_value} ...\")\n",
    "        await var.write_value(new_value)\n",
    "\n",
    "        # Calling a method\n",
    "        res = await client.nodes.objects.call_method(f\"{nsidx}:ServerMethod\", 5)\n",
    "        print(f\"Calling ServerMethod returned {res}\")\n",
    "\n",
    "\n",
    "if __name__ == \"__main__\":\n",
    "    asyncio.run(main())"
   ]
  }
 ],
 "metadata": {
  "language_info": {
   "name": "python"
  }
 },
 "nbformat": 4,
 "nbformat_minor": 2
}
